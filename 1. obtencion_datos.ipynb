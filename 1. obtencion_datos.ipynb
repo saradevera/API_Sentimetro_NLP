{
 "cells": [
  {
   "cell_type": "markdown",
   "metadata": {},
   "source": [
    "**<font face = \"Courier New\" size = 5 color = #FDFF8F> PRUEBA TÉCNICA PARA DATA COMPANY </font>**\n",
    "\n",
    "<font face = \"Courier New\" size = 4 > Vamos a empezar con la obtención de los datos solicitados\n",
    "</font>"
   ]
  },
  {
   "cell_type": "code",
   "execution_count": 1,
   "metadata": {},
   "outputs": [],
   "source": [
    "import pandas as pd"
   ]
  },
  {
   "cell_type": "code",
   "execution_count": 69,
   "metadata": {},
   "outputs": [],
   "source": [
    "# INSTALAMOS LA LIBRERÍA\n",
    "# %pip install --user --upgrade git+https://github.com/twintproject/twint.git@origin/master#egg=twint"
   ]
  },
  {
   "cell_type": "code",
   "execution_count": 2,
   "metadata": {},
   "outputs": [],
   "source": [
    "import twint\n",
    "\n",
    "import nest_asyncio\n",
    "nest_asyncio.apply()"
   ]
  },
  {
   "cell_type": "code",
   "execution_count": 3,
   "metadata": {},
   "outputs": [],
   "source": [
    "from datetime import datetime"
   ]
  },
  {
   "cell_type": "code",
   "execution_count": 4,
   "metadata": {},
   "outputs": [
    {
     "name": "stdout",
     "output_type": "stream",
     "text": [
      "[!] No more data! Scraping will stop now.\n",
      "found 0 deleted tweets in this search.\n"
     ]
    }
   ],
   "source": [
    "# DE ESTA MANERA SACARÍAMOS ÚNICAMENTE LOS TWEETS PUBLICADOS POR thebridge_tech\n",
    "\n",
    "c = twint.Config()\n",
    "# c.Search = \"eurocopa\"\n",
    "c.Username = 'thebridge_tech'\n",
    "c.Lang = \"es\"\n",
    "# c.Filter_retweets = True\n",
    "c.Limit = 10000\n",
    "c.Since = '2022-06-12'\n",
    "c.Until = '2022-10-05'\n",
    "c.Store_csv = True\n",
    "c.Output = './tweets_thebridge' + datetime.now().strftime(\"%Y%m%d-%H%M%S\") + '.csv'\n",
    "# c.Min_likes = 5\n",
    "# c.Min_replies = 5\n",
    "# c.Min_retweets = 5\n",
    "c.Pandas = True\n",
    "c.Hide_output = True\n",
    "\n",
    "twint.run.Search(c)"
   ]
  },
  {
   "cell_type": "code",
   "execution_count": 8,
   "metadata": {},
   "outputs": [
    {
     "name": "stdout",
     "output_type": "stream",
     "text": [
      "[!] No more data! Scraping will stop now.\n",
      "found 0 deleted tweets in this search.\n"
     ]
    }
   ],
   "source": [
    "# CON ESTA QUERY OBTENEMOS TODOS LOS TWEETS PUBLICADOS POR thebridge_tech Y SUS MENCIONES\n",
    "\n",
    "c = twint.Config()\n",
    "c.Search = 'thebridge_tech'\n",
    "# c.Username = 'thebridge_tech'\n",
    "c.Lang = \"es\"\n",
    "c.Filter_retweets = True\n",
    "c.Retweets = True\n",
    "# c.Limit = 10000\n",
    "c.Until = '2022-10-05'\n",
    "c.Since = '2022-06-12'\n",
    "c.Store_csv = True\n",
    "c.Output = './tweets_menciones' + datetime.now().strftime(\"%Y%m%d-%H%M%S\") + '.csv'\n",
    "# c.Min_likes = 5\n",
    "# c.Min_replies = 5\n",
    "# c.Min_retweets = 5\n",
    "c.Pandas = True\n",
    "c.Hide_output = True\n",
    "\n",
    "twint.run.Search(c)"
   ]
  }
 ],
 "metadata": {
  "kernelspec": {
   "display_name": "Python 3.7.4 64-bit",
   "language": "python",
   "name": "python3"
  },
  "language_info": {
   "codemirror_mode": {
    "name": "ipython",
    "version": 3
   },
   "file_extension": ".py",
   "mimetype": "text/x-python",
   "name": "python",
   "nbconvert_exporter": "python",
   "pygments_lexer": "ipython3",
   "version": "3.7.4"
  },
  "orig_nbformat": 4,
  "vscode": {
   "interpreter": {
    "hash": "bed665d392a0b16c59368a0492a31cfeef380a776e0741f5d7e9c0d91554052a"
   }
  }
 },
 "nbformat": 4,
 "nbformat_minor": 2
}
